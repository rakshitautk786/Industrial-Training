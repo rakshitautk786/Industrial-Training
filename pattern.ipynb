{
 "cells": [
  {
   "cell_type": "code",
   "execution_count": 13,
   "metadata": {},
   "outputs": [
    {
     "name": "stdout",
     "output_type": "stream",
     "text": [
      "*\n",
      "**\n",
      "***\n",
      "****\n",
      "*****\n"
     ]
    }
   ],
   "source": [
    "# *\n",
    "# **\n",
    "# ***\n",
    "# ****\n",
    "# *****\n",
    "for i in range(1,n+1):\n",
    "    print(\"*\"*i)"
   ]
  },
  {
   "cell_type": "code",
   "execution_count": 16,
   "metadata": {},
   "outputs": [
    {
     "name": "stdout",
     "output_type": "stream",
     "text": [
      "*****\n",
      "****\n",
      "***\n",
      "**\n",
      "*\n"
     ]
    }
   ],
   "source": [
    "for i in range(n,0,-1):\n",
    "    print(\"*\"*i)"
   ]
  },
  {
   "cell_type": "code",
   "execution_count": 19,
   "metadata": {},
   "outputs": [
    {
     "name": "stdout",
     "output_type": "stream",
     "text": [
      "5\n",
      "    *\n",
      "   **\n",
      "  ***\n",
      " ****\n",
      "*****\n"
     ]
    }
   ],
   "source": [
    "#      *\n",
    "#     **\n",
    "#    ***\n",
    "#   ****\n",
    "\n",
    "n=int(input())\n",
    "for i in range(1,n+1):\n",
    "    print(\" \"*(n-i) + \"*\"*i)\n",
    "    \n",
    "    "
   ]
  },
  {
   "cell_type": "code",
   "execution_count": 21,
   "metadata": {},
   "outputs": [
    {
     "name": "stdout",
     "output_type": "stream",
     "text": [
      "5\n",
      "*****\n",
      " ****\n",
      "  ***\n",
      "   **\n",
      "    *\n"
     ]
    }
   ],
   "source": [
    "n= int(input())\n",
    "for i in range(n,0,-1):\n",
    "    print(\" \"*(n-i) + \"*\"*i)\n",
    "    "
   ]
  },
  {
   "cell_type": "code",
   "execution_count": 23,
   "metadata": {},
   "outputs": [
    {
     "name": "stdout",
     "output_type": "stream",
     "text": [
      "9\n",
      "    *\n",
      "   **\n",
      "  ***\n",
      " ****\n",
      "*****\n",
      " ****\n",
      "  ***\n",
      "   **\n",
      "    *\n"
     ]
    }
   ],
   "source": [
    "n=int(input())\n",
    "for i in range(1,n+1):\n",
    "    if (i<=(n//2)+1):\n",
    "        print(\" \"*((n//2)-i+1) + (\"*\"*i) )\n",
    "       \n",
    "    else:\n",
    "        print(\" \"*((i-(n//2)-1)) + \"*\"*((n+1)-i))\n",
    "        \n",
    "      "
   ]
  },
  {
   "cell_type": "code",
   "execution_count": 24,
   "metadata": {},
   "outputs": [
    {
     "name": "stdout",
     "output_type": "stream",
     "text": [
      "5\n",
      "     *\n",
      "    ***\n",
      "   *****\n",
      "  *******\n",
      " *********\n"
     ]
    }
   ],
   "source": [
    "n=int(input())\n",
    "for i in range(0,n):\n",
    "    print(\" \"*(n-i) + \"*\"*(2*i+1))\n",
    "    "
   ]
  },
  {
   "cell_type": "code",
   "execution_count": 27,
   "metadata": {},
   "outputs": [
    {
     "name": "stdout",
     "output_type": "stream",
     "text": [
      "9\n",
      "    *\n",
      "   ***\n",
      "  *****\n",
      " *******\n",
      "*********\n",
      " *******\n",
      "  *****\n",
      "   ***\n",
      "    *\n"
     ]
    }
   ],
   "source": [
    "n=int(input())\n",
    "for i in range(0,n):\n",
    "    if (i<(n//2)+1):\n",
    "        print(\" \"*(n//2-i)+\"*\"*(2*i+1))\n",
    "       \n",
    "    else:\n",
    "        print(\" \"*((i-(n//2)))+\"*\"*(2*(n-i)-1))\n",
    "       \n",
    "    \n",
    "    \n",
    "    \n",
    "    \n",
    "    \n",
    "#     n=int(input())\n",
    "# for i in range(1,n+1):\n",
    "#     if (i<=(n//2)+1):\n",
    "#         print(\" \"*((n//2)-i+1),end=\"\")\n",
    "#         print(\"*\"*i)\n",
    "#     else:\n",
    "#         print(\" \"*((i-(n//2)-1)),end=\"\")\n",
    "#         print(\"*\"*((n+1)-i))\n",
    "      "
   ]
  },
  {
   "cell_type": "code",
   "execution_count": 48,
   "metadata": {},
   "outputs": [
    {
     "name": "stdout",
     "output_type": "stream",
     "text": [
      "9\n",
      "***** *****\n",
      "****   ****\n",
      "***     ***\n",
      "**       **\n",
      "*         *\n",
      "**       **\n",
      "***     ***\n",
      "****   ****\n",
      "***** *****\n"
     ]
    }
   ],
   "source": [
    "# *********\t\n",
    "# **** ****\n",
    "# ***   ***\n",
    "# **     **\n",
    "# *       *\n",
    "# **     **\n",
    "# ***   ***\n",
    "# **** ****\n",
    "# *********\n",
    "n=int(input())\n",
    "for i in range(0,n):\n",
    "    if (i<(n//2)+1):\n",
    "        print(\"*\"*(n//2-i+1)+\" \"*(2*i+1)+\"*\"*(n//2-i+1))\n",
    "       \n",
    "    else:\n",
    "        print(\"*\"*((i-(n//2)+1))+\" \"*(2*(n-i)-1)+\"*\"*((i-(n//2)+1)))\n",
    "       "
   ]
  },
  {
   "cell_type": "code",
   "execution_count": 32,
   "metadata": {},
   "outputs": [
    {
     "name": "stdout",
     "output_type": "stream",
     "text": [
      "*********\n",
      "***   ***\n",
      "**     **\n",
      "*       *\n",
      "*       *\n",
      "**     **\n",
      "***   ***\n",
      "**** ****\n",
      "*********\n"
     ]
    }
   ],
   "source": []
  },
  {
   "cell_type": "code",
   "execution_count": 55,
   "metadata": {},
   "outputs": [
    {
     "name": "stdout",
     "output_type": "stream",
     "text": [
      "5\n",
      "     1\n",
      "    12\n",
      "   123\n",
      "  1234\n",
      " 12345\n"
     ]
    }
   ],
   "source": [
    "#     1\n",
    "#    12\n",
    "#   123\n",
    "#  1234\n",
    "# 12345\n",
    "\n",
    "n=int(input())\n",
    "k=0\n",
    "for i in range(1,n+1):\n",
    "    print(\" \"*(n-i),end=\" \")\n",
    "    k=k*10+i\n",
    "    print(k)\n",
    "    "
   ]
  },
  {
   "cell_type": "code",
   "execution_count": 58,
   "metadata": {},
   "outputs": [
    {
     "name": "stdout",
     "output_type": "stream",
     "text": [
      "    1\n",
      "   121\n",
      "  12321\n",
      " 1234321\n",
      "123454321\n"
     ]
    }
   ],
   "source": [
    "\n",
    "#     1\n",
    "#    121\n",
    "#   12321\n",
    "#  1234321\n",
    "# 123454321\n",
    "\n",
    "k=\"1\"\n",
    "for i in range(1,n+1):\n",
    "    print(\" \" * (n+1-i-1),end =\"\")\n",
    "    if(i!=1):\n",
    "        print(k+ str(i) + k[::-1])\n",
    "        k = k+ str(i)\n",
    "    else:\n",
    "        print(k)\n",
    "\n"
   ]
  },
  {
   "cell_type": "code",
   "execution_count": 60,
   "metadata": {},
   "outputs": [
    {
     "name": "stdout",
     "output_type": "stream",
     "text": [
      "    1\n",
      "   212\n",
      "  32123\n",
      " 4321234\n",
      "543212345\n"
     ]
    }
   ],
   "source": [
    "#     1\n",
    "#    212\n",
    "#   32123\n",
    "#  4321234\n",
    "# 543212345\n",
    "\n",
    "k=\"1\"\n",
    "for i in range(1,n+1):\n",
    "    print(\" \" * (n+1-i-1),end =\"\")\n",
    "    if(i!=1):\n",
    "        print( str(i) +k + str(i))\n",
    "        k = str(i) +k + str(i)\n",
    "    else:\n",
    "        print(k)"
   ]
  }
 ],
 "metadata": {
  "kernelspec": {
   "display_name": "Python 3",
   "language": "python",
   "name": "python3"
  },
  "language_info": {
   "codemirror_mode": {
    "name": "ipython",
    "version": 3
   },
   "file_extension": ".py",
   "mimetype": "text/x-python",
   "name": "python",
   "nbconvert_exporter": "python",
   "pygments_lexer": "ipython3",
   "version": "3.7.3"
  }
 },
 "nbformat": 4,
 "nbformat_minor": 2
}
